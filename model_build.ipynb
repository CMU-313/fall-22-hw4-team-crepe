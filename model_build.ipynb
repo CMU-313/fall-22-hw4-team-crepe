{
 "cells": [
  {
   "cell_type": "markdown",
   "metadata": {},
   "source": [
    "### Creating and Persisting an ML Model"
   ]
  },
  {
   "cell_type": "code",
   "execution_count": null,
   "metadata": {},
   "outputs": [],
   "source": [
    "import pandas as pd\n",
    "import numpy as np\n",
    "df = pd.read_csv('data/student-mat.csv', sep=';')"
   ]
  },
  {
   "cell_type": "markdown",
   "metadata": {},
   "source": [
    "Summary of the data"
   ]
  },
  {
   "cell_type": "code",
   "execution_count": null,
   "metadata": {},
   "outputs": [],
   "source": [
    "df.describe()"
   ]
  },
  {
   "cell_type": "code",
   "execution_count": null,
   "metadata": {},
   "outputs": [],
   "source": [
    "df.info"
   ]
  },
  {
   "cell_type": "markdown",
   "metadata": {},
   "source": [
    "Create a subset of features as an example."
   ]
  },
  {
   "cell_type": "code",
   "execution_count": null,
   "metadata": {},
   "outputs": [],
   "source": [
    "include = ['failures', 'schoolsup', 'internet', 'studytime', 'absences','Medu','Fedu','paid','famsup','G3']\n",
    "df.drop(columns=df.columns.difference(include), inplace=True)"
   ]
  },
  {
   "cell_type": "code",
   "execution_count": null,
   "metadata": {},
   "outputs": [],
   "source": [
    "df.info"
   ]
  },
  {
   "cell_type": "markdown",
   "metadata": {},
   "source": [
    "The goal is to predict the quality of the student. We will build a predictor based on the final grade (G3).\n",
    "Because we are trying to find quality students. In this model we define a quality student as one who achieves a final grade of 15 or higher. "
   ]
  },
  {
   "cell_type": "code",
   "execution_count": null,
   "metadata": {},
   "outputs": [],
   "source": [
    "df['qual_student'] = np.where(df['G3']>=15, 1, 0)"
   ]
  },
  {
   "cell_type": "code",
   "execution_count": null,
   "metadata": {},
   "outputs": [],
   "source": [
    "df['schoolsup'] = np.where(df['schoolsup']=='yes', 1, 0)"
   ]
  },
  {
   "cell_type": "code",
   "execution_count": null,
   "metadata": {},
   "outputs": [],
   "source": [
    "df['paid'] = np.where(df['paid']=='yes', 1, 0)"
   ]
  },
  {
   "cell_type": "code",
   "execution_count": null,
   "metadata": {},
   "outputs": [],
   "source": [
    "df['internet'] = np.where(df['internet']=='yes', 1, 0)"
   ]
  },
  {
   "cell_type": "code",
   "execution_count": null,
   "metadata": {},
   "outputs": [],
   "source": [
    "df['famsup'] = np.where(df['famsup']=='yes', 1, 0)"
   ]
  },
  {
   "cell_type": "code",
   "execution_count": null,
   "metadata": {},
   "outputs": [],
   "source": [
    "df.describe()"
   ]
  },
  {
   "cell_type": "markdown",
   "metadata": {},
   "source": [
    "Drop the G3 score"
   ]
  },
  {
   "cell_type": "code",
   "execution_count": null,
   "metadata": {},
   "outputs": [],
   "source": [
    "include = ['failures', 'schoolsup', 'internet', 'studytime', 'absences','Medu','Fedu','paid','famsup','qual_student']\n",
    "df.drop(columns=df.columns.difference(include), inplace=True) "
   ]
  },
  {
   "cell_type": "markdown",
   "metadata": {},
   "source": [
    "Import scikit-learn and build a random forest classifer"
   ]
  },
  {
   "cell_type": "code",
   "execution_count": null,
   "metadata": {},
   "outputs": [],
   "source": [
    "from sklearn.ensemble import RandomForestClassifier as rf\n",
    "import sklearn\n",
    "from sklearn.model_selection import train_test_split\n",
    "dependent_variable = 'qual_student'\n",
    "x = df[df.columns.difference([dependent_variable])]\n",
    "y = df[dependent_variable]\n",
    "rfc = rf(criterion='gini', \n",
    "                             n_estimators=5000,\n",
    "                             max_depth=7,\n",
    "                             min_samples_split=6,\n",
    "                             min_samples_leaf=6,\n",
    "                             max_features='auto',\n",
    "                             oob_score=True,\n",
    "                             random_state=42,\n",
    "                             n_jobs=-1,\n",
    "                             verbose=1)\n",
    "X_train, X_test, y_train,y_test= train_test_split(x, y, test_size=0.3)\n",
    "rfc.fit(X_train, y_train)\n",
    "print('****Results****')\n",
    "print(\"Accuracy: {:.4%}\".format(rfc.score(X_test, y_test)))"
   ]
  },
  {
   "cell_type": "markdown",
   "metadata": {},
   "source": [
    "Let's export this model so we can use it in a microservice (flask api)"
   ]
  },
  {
   "cell_type": "code",
   "execution_count": null,
   "metadata": {},
   "outputs": [],
   "source": [
    "import joblib\n",
    "# modify the file path to where you want to save the model\n",
    "joblib.dump(rfc, 'app/handlers/model.pkl')"
   ]
  },
  {
   "cell_type": "code",
   "execution_count": null,
   "metadata": {},
   "outputs": [],
   "source": [
    "query_df = pd.DataFrame({ 'failures' : pd.Series(0) ,'schoolsup' : pd.Series(1) ,'internet' : pd.Series(1), 'studytime' : pd.Series(4), 'absences' : pd.Series(0), 'Medu' : pd.Series(4), 'Fedu' : pd.Series(4), 'paid' : pd.Series(1), 'famsup' : pd.Series(0)})"
   ]
  },
  {
   "cell_type": "code",
   "execution_count": null,
   "metadata": {},
   "outputs": [],
   "source": [
    "pred = rfc.predict(query_df)\n",
    "print(pred)"
   ]
  },
  {
   "cell_type": "code",
   "execution_count": null,
   "metadata": {},
   "outputs": [],
   "source": [
    "x"
   ]
  },
  {
   "cell_type": "code",
   "execution_count": null,
   "metadata": {},
   "outputs": [],
   "source": [
    "type(x)"
   ]
  },
  {
   "cell_type": "code",
   "execution_count": null,
   "metadata": {},
   "outputs": [],
   "source": [
    "import pandas as pd\n",
    "import numpy as np\n",
    "import os\n",
    "import joblib\n",
    "df = pd.read_csv('data/ProductionData.csv', sep=',')\n",
    "\n",
    "df.info\n",
    "\n",
    "this_dir = \"app/handlers\"\n",
    "model_path = os.path.join(this_dir, \"model.pkl\")\n",
    "rfc = joblib.load(model_path)\n",
    "\n",
    "predict_rfc_prob = lambda x: rfc.predict_proba(x).astype(float)\n",
    "\n",
    "df['schoolsup'] = np.where(df['schoolsup']=='yes', 1, 0)\n",
    "df['paid'] = np.where(df['paid']=='yes', 1, 0)\n",
    "df['internet'] = np.where(df['internet']=='yes', 1, 0)\n",
    "df['famsup'] = np.where(df['famsup']=='yes', 1, 0)\n",
    "\n",
    "import lime.lime_tabular\n",
    "features = ['failures', 'schoolsup', 'internet', 'studytime', 'absences','Medu','Fedu','paid','famsup']\n",
    "df.drop(columns=df.columns.difference(features), inplace=True) \n",
    "\n",
    "lime_explainer = lime.lime_tabular.LimeTabularExplainer(df.to_numpy(), mode = 'classification', feature_names = features, class_names = ['Not Quality', 'Quality'])\n",
    "\n",
    "person_1_lime = lime_explainer.explain_instance(df.iloc[1978], predict_rfc_prob, num_features = 9)\n",
    "person_1_lime.show_in_notebook()"
   ]
  },
  {
   "cell_type": "code",
   "execution_count": null,
   "metadata": {},
   "outputs": [],
   "source": [
    "# Full data set\n",
    "import pandas as pd\n",
    "import numpy as np\n",
    "\n",
    "df = pd.read_csv('data/ProductionData.csv', sep=',')\n",
    "\n",
    "df['qual_student'] = np.where(df['G3']>=15, 1, 0)\n",
    "df['schoolsup'] = np.where(df['schoolsup']=='yes', 1, 0)\n",
    "df['paid'] = np.where(df['paid']=='yes', 1, 0)\n",
    "df['internet'] = np.where(df['internet']=='yes', 1, 0)\n",
    "df['famsup'] = np.where(df['famsup']=='yes', 1, 0)\n",
    "\n",
    "features = ['failures', 'schoolsup', 'internet', 'studytime', 'absences','Medu','Fedu','paid','famsup']\n",
    "df.drop(columns=df.columns.difference(features), inplace=True)\n",
    "\n",
    "df.describe()"
   ]
  },
  {
   "cell_type": "code",
   "execution_count": null,
   "metadata": {},
   "outputs": [],
   "source": [
    "# Subset with only quality students\n",
    "import pandas as pd\n",
    "import numpy as np\n",
    "\n",
    "df = pd.read_csv('data/ProductionData.csv', sep=',')\n",
    "\n",
    "df['qual_student'] = np.where(df['G3']>=15, 1, 0)\n",
    "df['schoolsup'] = np.where(df['schoolsup']=='yes', 1, 0)\n",
    "df['paid'] = np.where(df['paid']=='yes', 1, 0)\n",
    "df['internet'] = np.where(df['internet']=='yes', 1, 0)\n",
    "df['famsup'] = np.where(df['famsup']=='yes', 1, 0)\n",
    "\n",
    "dfq = df.drop(df[df['qual_student'] == 1].index)\n",
    "\n",
    "features = ['failures', 'schoolsup', 'internet', 'studytime', 'absences','Medu','Fedu','paid','famsup']\n",
    "dfq.drop(columns=dfq.columns.difference(features), inplace=True)\n",
    "\n",
    "dfq.describe()"
   ]
  },
  {
   "cell_type": "code",
   "execution_count": null,
   "metadata": {},
   "outputs": [],
   "source": [
    "# Subset with only NON quality students\n",
    "import pandas as pd\n",
    "import numpy as np\n",
    "import os\n",
    "import joblib\n",
    "\n",
    "df = pd.read_csv('data/ProductionData.csv', sep=',')\n",
    "\n",
    "this_dir = \"app/handlers\"\n",
    "model_path = os.path.join(this_dir, \"model.pkl\")\n",
    "rfc = joblib.load(model_path)\n",
    "\n",
    "df['qual_student'] = np.where(df['G3']>=15, 1, 0)\n",
    "df['schoolsup'] = np.where(df['schoolsup']=='yes', 1, 0)\n",
    "df['paid'] = np.where(df['paid']=='yes', 1, 0)\n",
    "df['internet'] = np.where(df['internet']=='yes', 1, 0)\n",
    "df['famsup'] = np.where(df['famsup']=='yes', 1, 0)\n",
    "\n",
    "dfnq = df.drop(df[df['qual_student'] == 0].index)\n",
    "\n",
    "features = ['failures', 'schoolsup', 'internet', 'studytime', 'absences','Medu','Fedu','paid','famsup']\n",
    "dfnq.drop(columns=dfnq.columns.difference(features), inplace=True)\n",
    "    \n",
    "dfnq.describe()"
   ]
  },
  {
   "cell_type": "code",
   "execution_count": null,
   "metadata": {},
   "outputs": [],
   "source": [
    "import random\n",
    "import pandas as pd\n",
    "import numpy as np\n",
    "import os\n",
    "import joblib\n",
    "\n",
    "df = pd.read_csv('data/ProductionData.csv', sep=',')\n",
    "# Dataset with 'qual_student' column\n",
    "dfTRUE = pd.read_csv('data/ProductionData.csv', sep=',')\n",
    "\n",
    "# Load model\n",
    "this_dir = \"app/handlers\"\n",
    "model_path = os.path.join(this_dir, \"model.pkl\")\n",
    "rfc = joblib.load(model_path)\n",
    "\n",
    "# Prediction function\n",
    "predict_rfc_prob = lambda x: rfc.predict_proba(x).astype(float)\n",
    "\n",
    "# Modify values from string to numbers\n",
    "df['qual_student'] = np.where(df['G3']>=15, 1, 0)\n",
    "df['schoolsup'] = np.where(df['schoolsup']=='yes', 1, 0)\n",
    "df['paid'] = np.where(df['paid']=='yes', 1, 0)\n",
    "df['internet'] = np.where(df['internet']=='yes', 1, 0)\n",
    "df['famsup'] = np.where(df['famsup']=='yes', 1, 0)\n",
    "\n",
    "# Add qual_student to other dataset\n",
    "dfTRUE['qual_student'] = np.where(df['G3']>=15, 1, 0)\n",
    "\n",
    "import lime.lime_tabular\n",
    "features = ['failures', 'schoolsup', 'internet', 'studytime', 'absences','Medu','Fedu','paid','famsup']\n",
    "df.drop(columns=df.columns.difference(features), inplace=True)\n",
    "\n",
    "lime_explainer = lime.lime_tabular.LimeTabularExplainer(df.to_numpy(), mode = 'classification', feature_names = features, class_names = ['Not Quality', 'Quality'])\n",
    "\n",
    "def getSample():\n",
    "    for i in range(30):\n",
    "        indexList = []\n",
    "        randIndex = random.randrange(0,20000)\n",
    "        if not randIndex in indexList:\n",
    "            indexList.append(randIndex)\n",
    "        else:\n",
    "            while randIndex in indexList:\n",
    "                randIndex = random.randrange(0,20000)\n",
    "        print(\"Index: \" + str(randIndex))\n",
    "        print(\"Quality student: \" + str(dfTRUE.loc[randIndex,\"qual_student\"]))\n",
    "        person_1_lime = lime_explainer.explain_instance(df.iloc[randIndex], predict_rfc_prob, num_features = 9)\n",
    "        person_1_lime.show_in_notebook()\n",
    "        \n",
    "getSample()"
   ]
  }
 ],
 "metadata": {
  "kernelspec": {
   "display_name": "Python 3 (ipykernel)",
   "language": "python",
   "name": "python3"
  },
  "language_info": {
   "codemirror_mode": {
    "name": "ipython",
    "version": 3
   },
   "file_extension": ".py",
   "mimetype": "text/x-python",
   "name": "python",
   "nbconvert_exporter": "python",
   "pygments_lexer": "ipython3",
   "version": "3.8.10"
  },
  "vscode": {
   "interpreter": {
    "hash": "22af72542bd729f941fa8b0e250217bc2f6fa0192c444240fec21c15d18c1c1d"
   }
  }
 },
 "nbformat": 4,
 "nbformat_minor": 2
}
